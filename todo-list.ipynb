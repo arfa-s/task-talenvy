{
 "cells": [
  {
   "cell_type": "code",
   "execution_count": 20,
   "id": "76498d79-b513-469a-bfda-bf3fbcf2c55f",
   "metadata": {},
   "outputs": [
    {
     "name": "stdout",
     "output_type": "stream",
     "text": [
      "\n",
      "To-Do List Menu:\n",
      "1. Add task\n",
      "2. Remove task\n",
      "3. View tasks\n",
      "4. Exit\n"
     ]
    },
    {
     "name": "stdin",
     "output_type": "stream",
     "text": [
      "Enter your choice (1-4):  1\n",
      "Enter the task to add:  study\n"
     ]
    },
    {
     "name": "stdout",
     "output_type": "stream",
     "text": [
      "Task 'study' added to your to-do list.\n",
      "\n",
      "To-Do List Menu:\n",
      "1. Add task\n",
      "2. Remove task\n",
      "3. View tasks\n",
      "4. Exit\n"
     ]
    },
    {
     "name": "stdin",
     "output_type": "stream",
     "text": [
      "Enter your choice (1-4):  1\n",
      "Enter the task to add:  breakfast\n"
     ]
    },
    {
     "name": "stdout",
     "output_type": "stream",
     "text": [
      "Task 'breakfast' added to your to-do list.\n",
      "\n",
      "To-Do List Menu:\n",
      "1. Add task\n",
      "2. Remove task\n",
      "3. View tasks\n",
      "4. Exit\n"
     ]
    },
    {
     "name": "stdin",
     "output_type": "stream",
     "text": [
      "Enter your choice (1-4):  1\n",
      "Enter the task to add:  classes\n"
     ]
    },
    {
     "name": "stdout",
     "output_type": "stream",
     "text": [
      "Task 'classes' added to your to-do list.\n",
      "\n",
      "To-Do List Menu:\n",
      "1. Add task\n",
      "2. Remove task\n",
      "3. View tasks\n",
      "4. Exit\n"
     ]
    },
    {
     "name": "stdin",
     "output_type": "stream",
     "text": [
      "Enter your choice (1-4):  freetime\n"
     ]
    },
    {
     "name": "stdout",
     "output_type": "stream",
     "text": [
      "Invalid choice. Please try again.\n",
      "\n",
      "To-Do List Menu:\n",
      "1. Add task\n",
      "2. Remove task\n",
      "3. View tasks\n",
      "4. Exit\n"
     ]
    },
    {
     "name": "stdin",
     "output_type": "stream",
     "text": [
      "Enter your choice (1-4):  3\n"
     ]
    },
    {
     "name": "stdout",
     "output_type": "stream",
     "text": [
      "\n",
      "Your To-Do List:\n",
      "1. study\n",
      "2. breakfast\n",
      "3. classes\n",
      "\n",
      "To-Do List Menu:\n",
      "1. Add task\n",
      "2. Remove task\n",
      "3. View tasks\n",
      "4. Exit\n"
     ]
    },
    {
     "name": "stdin",
     "output_type": "stream",
     "text": [
      "Enter your choice (1-4):  2\n",
      "Enter the task to remove:  classes\n"
     ]
    },
    {
     "name": "stdout",
     "output_type": "stream",
     "text": [
      "Task 'classes' removed from your to-do list.\n",
      "\n",
      "To-Do List Menu:\n",
      "1. Add task\n",
      "2. Remove task\n",
      "3. View tasks\n",
      "4. Exit\n"
     ]
    },
    {
     "name": "stdin",
     "output_type": "stream",
     "text": [
      "Enter your choice (1-4):  3\n"
     ]
    },
    {
     "name": "stdout",
     "output_type": "stream",
     "text": [
      "\n",
      "Your To-Do List:\n",
      "1. study\n",
      "2. breakfast\n",
      "\n",
      "To-Do List Menu:\n",
      "1. Add task\n",
      "2. Remove task\n",
      "3. View tasks\n",
      "4. Exit\n"
     ]
    },
    {
     "name": "stdin",
     "output_type": "stream",
     "text": [
      "Enter your choice (1-4):  4\n"
     ]
    },
    {
     "name": "stdout",
     "output_type": "stream",
     "text": [
      "Exiting the To-Do list. Goodbye!\n"
     ]
    }
   ],
   "source": [
    "# todo-list\n",
    "class TodoList:\n",
    "    def __init__(self):\n",
    "        self.tasks = []\n",
    "\n",
    "    def add_task(self, task):\n",
    "        self.tasks.append(task)\n",
    "        print(f\"Task '{task}' added to your to-do list.\")\n",
    "\n",
    "    def remove_task(self, task):\n",
    "        if task in self.tasks:\n",
    "            self.tasks.remove(task)\n",
    "            print(f\"Task '{task}' removed from your to-do list.\")\n",
    "        else:\n",
    "            print(f\"Task '{task}' not found.\")\n",
    "\n",
    "    def view_tasks(self):\n",
    "        if self.tasks:\n",
    "            print(\"\\nYour To-Do List:\")\n",
    "            for index, task in enumerate(self.tasks, start=1):\n",
    "                print(f\"{index}. {task}\")\n",
    "        else:\n",
    "            print(\"Your to-do list is empty!\")\n",
    "\n",
    "def show_menu():\n",
    "    print(\"\\nTo-Do List Menu:\")\n",
    "    print(\"1. Add task\")\n",
    "    print(\"2. Remove task\")\n",
    "    print(\"3. View tasks\")\n",
    "    print(\"4. Exit\")\n",
    "\n",
    "def main():\n",
    "    todo = TodoList()\n",
    "\n",
    "    while True:\n",
    "        show_menu()\n",
    "        choice = input(\"Enter your choice (1-4): \")\n",
    "\n",
    "        if choice == '1':\n",
    "            task = input(\"Enter the task to add: \")\n",
    "            todo.add_task(task)\n",
    "        elif choice == '2':\n",
    "            task = input(\"Enter the task to remove: \")\n",
    "            todo.remove_task(task)\n",
    "        elif choice == '3':\n",
    "            todo.view_tasks()\n",
    "        elif choice == '4':\n",
    "            print(\"Exiting the To-Do list. Goodbye!\")\n",
    "            break\n",
    "        else:\n",
    "            print(\"Invalid choice. Please try again.\")\n",
    "\n",
    "if __name__ == \"__main__\":\n",
    "    main()\n"
   ]
  },
  {
   "cell_type": "code",
   "execution_count": 19,
   "id": "5c5190e1-a18f-4490-aecb-46a4c40df9d7",
   "metadata": {},
   "outputs": [
    {
     "name": "stdin",
     "output_type": "stream",
     "text": [
      "enter first number 17\n",
      "enter second number 13\n"
     ]
    },
    {
     "name": "stdout",
     "output_type": "stream",
     "text": [
      "addition (+): 30\n",
      "substration(-): 4\n",
      "multiplication(*): 221\n",
      "division(/): 1.3076923076923077\n"
     ]
    }
   ],
   "source": [
    "# simple calculator\n",
    "\n",
    "x = int(input('enter first number'))\n",
    "y = int(input('enter second number'))\n",
    "\n",
    "print(\"addition (+):\", x+y)\n",
    "print(\"substration(-):\", x-y)\n",
    "print(\"multiplication(*):\", x*y)\n",
    "print(\"division(/):\", x/y)"
   ]
  },
  {
   "cell_type": "code",
   "execution_count": 21,
   "id": "ae056be9-13ed-48c0-aaa9-5b2acb5335d2",
   "metadata": {},
   "outputs": [
    {
     "name": "stdin",
     "output_type": "stream",
     "text": [
      "enter the length of password 17\n"
     ]
    },
    {
     "name": "stdout",
     "output_type": "stream",
     "text": [
      "61pOa\n"
     ]
    }
   ],
   "source": [
    "# Password Generator\n",
    "\n",
    "import random\n",
    "import string\n",
    "\n",
    "lenght = int(input('enter the length of password'))\n",
    "\n",
    "upper = string.ascii_uppercase\n",
    "lower = string.ascii_lowercase\n",
    "num = string.digits\n",
    "symbol = string.punctuation\n",
    "all = upper + lower + num\n",
    "\n",
    "temp = random.sample(all,length)\n",
    "password = \"\".join(temp)\n",
    "print(password)\n"
   ]
  },
  {
   "cell_type": "code",
   "execution_count": null,
   "id": "3f4bc070-7de5-48fc-91e9-1390099d9110",
   "metadata": {},
   "outputs": [],
   "source": []
  }
 ],
 "metadata": {
  "kernelspec": {
   "display_name": "Python 3 (ipykernel)",
   "language": "python",
   "name": "python3"
  },
  "language_info": {
   "codemirror_mode": {
    "name": "ipython",
    "version": 3
   },
   "file_extension": ".py",
   "mimetype": "text/x-python",
   "name": "python",
   "nbconvert_exporter": "python",
   "pygments_lexer": "ipython3",
   "version": "3.13.2"
  }
 },
 "nbformat": 4,
 "nbformat_minor": 5
}
