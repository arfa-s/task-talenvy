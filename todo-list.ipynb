{
 "cells": [
  {
   "cell_type": "code",
   "execution_count": 20,
   "id": "76498d79-b513-469a-bfda-bf3fbcf2c55f",
   "metadata": {},
   "outputs": [
    {
     "name": "stdout",
     "output_type": "stream",
     "text": [
      "\n",
      "To-Do List Menu:\n",
      "1. Add task\n",
      "2. Remove task\n",
      "3. View tasks\n",
      "4. Exit\n"
     ]
    },
    {
     "name": "stdin",
     "output_type": "stream",
     "text": [
      "Enter your choice (1-4):  1\n",
      "Enter the task to add:  study\n"
     ]
    },
    {
     "name": "stdout",
     "output_type": "stream",
     "text": [
      "Task 'study' added to your to-do list.\n",
      "\n",
      "To-Do List Menu:\n",
      "1. Add task\n",
      "2. Remove task\n",
      "3. View tasks\n",
      "4. Exit\n"
     ]
    },
    {
     "name": "stdin",
     "output_type": "stream",
     "text": [
      "Enter your choice (1-4):  1\n",
      "Enter the task to add:  breakfast\n"
     ]
    },
    {
     "name": "stdout",
     "output_type": "stream",
     "text": [
      "Task 'breakfast' added to your to-do list.\n",
      "\n",
      "To-Do List Menu:\n",
      "1. Add task\n",
      "2. Remove task\n",
      "3. View tasks\n",
      "4. Exit\n"
     ]
    },
    {
     "name": "stdin",
     "output_type": "stream",
     "text": [
      "Enter your choice (1-4):  1\n",
      "Enter the task to add:  classes\n"
     ]
    },
    {
     "name": "stdout",
     "output_type": "stream",
     "text": [
      "Task 'classes' added to your to-do list.\n",
      "\n",
      "To-Do List Menu:\n",
      "1. Add task\n",
      "2. Remove task\n",
      "3. View tasks\n",
      "4. Exit\n"
     ]
    },
    {
     "name": "stdin",
     "output_type": "stream",
     "text": [
      "Enter your choice (1-4):  freetime\n"
     ]
    },
    {
     "name": "stdout",
     "output_type": "stream",
     "text": [
      "Invalid choice. Please try again.\n",
      "\n",
      "To-Do List Menu:\n",
      "1. Add task\n",
      "2. Remove task\n",
      "3. View tasks\n",
      "4. Exit\n"
     ]
    },
    {
     "name": "stdin",
     "output_type": "stream",
     "text": [
      "Enter your choice (1-4):  3\n"
     ]
    },
    {
     "name": "stdout",
     "output_type": "stream",
     "text": [
      "\n",
      "Your To-Do List:\n",
      "1. study\n",
      "2. breakfast\n",
      "3. classes\n",
      "\n",
      "To-Do List Menu:\n",
      "1. Add task\n",
      "2. Remove task\n",
      "3. View tasks\n",
      "4. Exit\n"
     ]
    },
    {
     "name": "stdin",
     "output_type": "stream",
     "text": [
      "Enter your choice (1-4):  2\n",
      "Enter the task to remove:  classes\n"
     ]
    },
    {
     "name": "stdout",
     "output_type": "stream",
     "text": [
      "Task 'classes' removed from your to-do list.\n",
      "\n",
      "To-Do List Menu:\n",
      "1. Add task\n",
      "2. Remove task\n",
      "3. View tasks\n",
      "4. Exit\n"
     ]
    },
    {
     "name": "stdin",
     "output_type": "stream",
     "text": [
      "Enter your choice (1-4):  3\n"
     ]
    },
    {
     "name": "stdout",
     "output_type": "stream",
     "text": [
      "\n",
      "Your To-Do List:\n",
      "1. study\n",
      "2. breakfast\n",
      "\n",
      "To-Do List Menu:\n",
      "1. Add task\n",
      "2. Remove task\n",
      "3. View tasks\n",
      "4. Exit\n"
     ]
    },
    {
     "name": "stdin",
     "output_type": "stream",
     "text": [
      "Enter your choice (1-4):  4\n"
     ]
    },
    {
     "name": "stdout",
     "output_type": "stream",
     "text": [
      "Exiting the To-Do list. Goodbye!\n"
     ]
    }
   ],
   "source": [
    "# todo-list\n",
    "class TodoList:\n",
    "    def __init__(self):\n",
    "        self.tasks = []\n",
    "\n",
    "    def add_task(self, task):\n",
    "        self.tasks.append(task)\n",
    "        print(f\"Task '{task}' added to your to-do list.\")\n",
    "\n",
    "    def remove_task(self, task):\n",
    "        if task in self.tasks:\n",
    "            self.tasks.remove(task)\n",
    "            print(f\"Task '{task}' removed from your to-do list.\")\n",
    "        else:\n",
    "            print(f\"Task '{task}' not found.\")\n",
    "\n",
    "    def view_tasks(self):\n",
    "        if self.tasks:\n",
    "            print(\"\\nYour To-Do List:\")\n",
    "            for index, task in enumerate(self.tasks, start=1):\n",
    "                print(f\"{index}. {task}\")\n",
    "        else:\n",
    "            print(\"Your to-do list is empty!\")\n",
    "\n",
    "def show_menu():\n",
    "    print(\"\\nTo-Do List Menu:\")\n",
    "    print(\"1. Add task\")\n",
    "    print(\"2. Remove task\")\n",
    "    print(\"3. View tasks\")\n",
    "    print(\"4. Exit\")\n",
    "\n",
    "def main():\n",
    "    todo = TodoList()\n",
    "\n",
    "    while True:\n",
    "        show_menu()\n",
    "        choice = input(\"Enter your choice (1-4): \")\n",
    "\n",
    "        if choice == '1':\n",
    "            task = input(\"Enter the task to add: \")\n",
    "            todo.add_task(task)\n",
    "        elif choice == '2':\n",
    "            task = input(\"Enter the task to remove: \")\n",
    "            todo.remove_task(task)\n",
    "        elif choice == '3':\n",
    "            todo.view_tasks()\n",
    "        elif choice == '4':\n",
    "            print(\"Exiting the To-Do list. Goodbye!\")\n",
    "            break\n",
    "        else:\n",
    "            print(\"Invalid choice. Please try again.\")\n",
    "\n",
    "if __name__ == \"__main__\":\n",
    "    main()\n"
   ]
  },
  {
   "cell_type": "code",
   "execution_count": 19,
   "id": "5c5190e1-a18f-4490-aecb-46a4c40df9d7",
   "metadata": {},
   "outputs": [
    {
     "name": "stdin",
     "output_type": "stream",
     "text": [
      "enter first number 17\n",
      "enter second number 13\n"
     ]
    },
    {
     "name": "stdout",
     "output_type": "stream",
     "text": [
      "addition (+): 30\n",
      "substration(-): 4\n",
      "multiplication(*): 221\n",
      "division(/): 1.3076923076923077\n"
     ]
    }
   ],
   "source": [
    "# simple calculator\n",
    "\n",
    "x = int(input('enter first number'))\n",
    "y = int(input('enter second number'))\n",
    "\n",
    "print(\"addition (+):\", x+y)\n",
    "print(\"substration(-):\", x-y)\n",
    "print(\"multiplication(*):\", x*y)\n",
    "print(\"division(/):\", x/y)"
   ]
  },
  {
   "cell_type": "code",
   "execution_count": 21,
   "id": "ae056be9-13ed-48c0-aaa9-5b2acb5335d2",
   "metadata": {},
   "outputs": [
    {
     "name": "stdin",
     "output_type": "stream",
     "text": [
      "enter the length of password 17\n"
     ]
    },
    {
     "name": "stdout",
     "output_type": "stream",
     "text": [
      "61pOa\n"
     ]
    }
   ],
   "source": [
    "# Password Generator\n",
    "\n",
    "import random\n",
    "import string\n",
    "\n",
    "lenght = int(input('enter the length of password'))\n",
    "\n",
    "upper = string.ascii_uppercase\n",
    "lower = string.ascii_lowercase\n",
    "num = string.digits\n",
    "symbol = string.punctuation\n",
    "all = upper + lower + num\n",
    "\n",
    "temp = random.sample(all,length)\n",
    "password = \"\".join(temp)\n",
    "print(password)\n"
   ]
  },
  {
   "cell_type": "code",
   "execution_count": 2,
   "id": "8d6c8cc4-3fe0-4994-9950-4758cc07a174",
   "metadata": {},
   "outputs": [
    {
     "name": "stdout",
     "output_type": "stream",
     "text": [
      "\n",
      "contact n=book menu\n",
      "1. add conatct\n",
      "2. delete contact\n",
      "3. update contact\n",
      "4. search contact\n",
      "5. display contact\n",
      "6. exit\n"
     ]
    },
    {
     "name": "stdin",
     "output_type": "stream",
     "text": [
      "enter your choice (1-6): 1\n",
      "enter name: qwer\n",
      "enter phone number 1232356232\n"
     ]
    },
    {
     "name": "stdout",
     "output_type": "stream",
     "text": [
      "contact added successfully\n"
     ]
    }
   ],
   "source": [
    "# contact book\n",
    "\n",
    "contacts = {}\n",
    "\n",
    "def add_contact():\n",
    "    name = input(\"enter name:\")\n",
    "    phone = input(\"enter phone number\")\n",
    "    if name in contacts:\n",
    "        print(\"this contact already exist\")\n",
    "    else:\n",
    "        contacts[name] = phone\n",
    "        print(\"contact added successfully\")\n",
    "def delete_contact():\n",
    "    name = input(\"enter name:\")\n",
    "    if name in contacts:\n",
    "        del contacts[name]\n",
    "        print(\"contact deleted successfully\")\n",
    "    else:\n",
    "        print(\"this contact does not exist\")\n",
    "        \n",
    "def update_contact():\n",
    "    name = input(\"enter name:\")\n",
    "    for contact in contacts:\n",
    "            phone = input(\"enter new phone number\")\n",
    "            contacts[name] = phone\n",
    "    else:\n",
    "        print(\"this contact does not exist\")\n",
    "            \n",
    "def search_contact():\n",
    "    name = input(\" enter name:\")\n",
    "    for contact in contacts:\n",
    "     if contact.lower() == name.lower():\n",
    "        print(\"contact found\")\n",
    "        print(contact,contacts[contact])\n",
    "        break\n",
    "    else:\n",
    "        print(\"contact not found\")\n",
    "        \n",
    "def display_contact():\n",
    "    if contact == {}:\n",
    "        print(\"there are no contacts\")\n",
    "    else:\n",
    "        print(\"contact list:\")\n",
    "        for name, phone in contatcs.items():\n",
    "            print(name, phone)\n",
    "    \n",
    "        \n",
    "while True:\n",
    "    print(\"\\ncontact n=book menu\")\n",
    "    print(\"1. add conatct\")\n",
    "    print(\"2. delete contact\")\n",
    "    print(\"3. update contact\")\n",
    "    print(\"4. search contact\")\n",
    "    print(\"5. display contact\")\n",
    "    print(\"6. exit\")\n",
    "\n",
    "    choice = int(input(\"enter your choice (1-6):\"))\n",
    "    if choice == 1:\n",
    "        add_contact()\n",
    "    elif choice == 2:\n",
    "        delete_contact()\n",
    "    elif choice == 3:\n",
    "        update_contact()\n",
    "    elif choice == 4:\n",
    "        search_contact()\n",
    "    elif choice == 5:\n",
    "        diplay_contact()\n",
    "    elif choice == 6:\n",
    "        print(\"exiting contact book. goodbye!\")\n",
    "    else:\n",
    "        print(\"invalid chioce. please enter a number\")\n",
    "    break\n"
   ]
  },
  {
   "cell_type": "code",
   "execution_count": 3,
   "id": "2dbe9134-d84a-426c-8238-3e6a6d037ebe",
   "metadata": {},
   "outputs": [
    {
     "name": "stdin",
     "output_type": "stream",
     "text": [
      "Choose Rock, Paper, or Scissors:  paper\n"
     ]
    },
    {
     "name": "stdout",
     "output_type": "stream",
     "text": [
      "\n",
      "You chose: Paper\n",
      "Computer chose: Scissors\n",
      "Computer wins!\n"
     ]
    }
   ],
   "source": [
    "# rock paper scissor game\n",
    "\n",
    "import random\n",
    "\n",
    "# Function to play the game\n",
    "def play_game():\n",
    "    choices = ['rock', 'paper', 'scissors']\n",
    "    \n",
    "    # Get player choice\n",
    "    player_choice = input(\"Choose Rock, Paper, or Scissors: \").lower()\n",
    "    while player_choice not in choices:\n",
    "        print(\"Invalid choice. Please choose Rock, Paper, or Scissors.\")\n",
    "        player_choice = input(\"Choose Rock, Paper, or Scissors: \").lower()\n",
    "\n",
    "    # Get computer choice\n",
    "    computer_choice = random.choice(choices)\n",
    "\n",
    "    # Print choices\n",
    "    print(f\"\\nYou chose: {player_choice.capitalize()}\")\n",
    "    print(f\"Computer chose: {computer_choice.capitalize()}\")\n",
    "\n",
    "    # Determine winner\n",
    "    if player_choice == computer_choice:\n",
    "        print(\"It's a tie!\")\n",
    "    elif (player_choice == 'rock' and computer_choice == 'scissors') or \\\n",
    "         (player_choice == 'scissors' and computer_choice == 'paper') or \\\n",
    "         (player_choice == 'paper' and computer_choice == 'rock'):\n",
    "        print(\"You win!\")\n",
    "    else:\n",
    "        print(\"Computer wins!\")\n",
    "\n",
    "# Run the game\n",
    "play_game()"
   ]
  },
  {
   "cell_type": "code",
   "execution_count": null,
   "id": "dfb515ae-73fe-4770-a867-07794e935856",
   "metadata": {},
   "outputs": [],
   "source": []
  }
 ],
 "metadata": {
  "kernelspec": {
   "display_name": "Python 3 (ipykernel)",
   "language": "python",
   "name": "python3"
  },
  "language_info": {
   "codemirror_mode": {
    "name": "ipython",
    "version": 3
   },
   "file_extension": ".py",
   "mimetype": "text/x-python",
   "name": "python",
   "nbconvert_exporter": "python",
   "pygments_lexer": "ipython3",
   "version": "3.13.2"
  }
 },
 "nbformat": 4,
 "nbformat_minor": 5
}
