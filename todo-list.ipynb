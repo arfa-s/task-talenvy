{
 "cells": [
  {
   "cell_type": "code",
   "execution_count": null,
   "id": "76498d79-b513-469a-bfda-bf3fbcf2c55f",
   "metadata": {},
   "outputs": [
    {
     "name": "stdout",
     "output_type": "stream",
     "text": [
      "\n",
      "To-Do List Menu:\n",
      "1. Add task\n",
      "2. Remove task\n",
      "3. View tasks\n",
      "4. Exit\n"
     ]
    },
    {
     "name": "stdin",
     "output_type": "stream",
     "text": [
      "Enter your choice (1-4):  2\n",
      "Enter the task to remove:  lunch\n"
     ]
    },
    {
     "name": "stdout",
     "output_type": "stream",
     "text": [
      "Task 'lunch' not found.\n",
      "\n",
      "To-Do List Menu:\n",
      "1. Add task\n",
      "2. Remove task\n",
      "3. View tasks\n",
      "4. Exit\n"
     ]
    },
    {
     "name": "stdin",
     "output_type": "stream",
     "text": [
      "Enter your choice (1-4):  1\n",
      "Enter the task to add:  study\n"
     ]
    },
    {
     "name": "stdout",
     "output_type": "stream",
     "text": [
      "Task 'study' added to your to-do list.\n",
      "\n",
      "To-Do List Menu:\n",
      "1. Add task\n",
      "2. Remove task\n",
      "3. View tasks\n",
      "4. Exit\n"
     ]
    },
    {
     "name": "stdin",
     "output_type": "stream",
     "text": [
      "Enter your choice (1-4):  1\n",
      "Enter the task to add:  sleep\n"
     ]
    },
    {
     "name": "stdout",
     "output_type": "stream",
     "text": [
      "Task 'sleep' added to your to-do list.\n",
      "\n",
      "To-Do List Menu:\n",
      "1. Add task\n",
      "2. Remove task\n",
      "3. View tasks\n",
      "4. Exit\n"
     ]
    },
    {
     "name": "stdin",
     "output_type": "stream",
     "text": [
      "Enter your choice (1-4):  1\n",
      "Enter the task to add:  gaming\n"
     ]
    },
    {
     "name": "stdout",
     "output_type": "stream",
     "text": [
      "Task 'gaming' added to your to-do list.\n",
      "\n",
      "To-Do List Menu:\n",
      "1. Add task\n",
      "2. Remove task\n",
      "3. View tasks\n",
      "4. Exit\n"
     ]
    },
    {
     "name": "stdin",
     "output_type": "stream",
     "text": [
      "Enter your choice (1-4):  1\n",
      "Enter the task to add:  classes\n"
     ]
    },
    {
     "name": "stdout",
     "output_type": "stream",
     "text": [
      "Task 'classes' added to your to-do list.\n",
      "\n",
      "To-Do List Menu:\n",
      "1. Add task\n",
      "2. Remove task\n",
      "3. View tasks\n",
      "4. Exit\n"
     ]
    },
    {
     "name": "stdin",
     "output_type": "stream",
     "text": [
      "Enter your choice (1-4):  3\n"
     ]
    },
    {
     "name": "stdout",
     "output_type": "stream",
     "text": [
      "\n",
      "Your To-Do List:\n",
      "1. study\n",
      "2. sleep\n",
      "3. gaming\n",
      "4. classes\n",
      "\n",
      "To-Do List Menu:\n",
      "1. Add task\n",
      "2. Remove task\n",
      "3. View tasks\n",
      "4. Exit\n"
     ]
    },
    {
     "name": "stdin",
     "output_type": "stream",
     "text": [
      "Enter your choice (1-4):  2\n",
      "Enter the task to remove:  3\n"
     ]
    },
    {
     "name": "stdout",
     "output_type": "stream",
     "text": [
      "Task '3' not found.\n",
      "\n",
      "To-Do List Menu:\n",
      "1. Add task\n",
      "2. Remove task\n",
      "3. View tasks\n",
      "4. Exit\n"
     ]
    },
    {
     "name": "stdin",
     "output_type": "stream",
     "text": [
      "Enter your choice (1-4):  3\n"
     ]
    },
    {
     "name": "stdout",
     "output_type": "stream",
     "text": [
      "\n",
      "Your To-Do List:\n",
      "1. study\n",
      "2. sleep\n",
      "3. gaming\n",
      "4. classes\n",
      "\n",
      "To-Do List Menu:\n",
      "1. Add task\n",
      "2. Remove task\n",
      "3. View tasks\n",
      "4. Exit\n"
     ]
    },
    {
     "name": "stdin",
     "output_type": "stream",
     "text": [
      "Enter your choice (1-4):  2\n",
      "Enter the task to remove:  gaming\n"
     ]
    },
    {
     "name": "stdout",
     "output_type": "stream",
     "text": [
      "Task 'gaming' removed from your to-do list.\n",
      "\n",
      "To-Do List Menu:\n",
      "1. Add task\n",
      "2. Remove task\n",
      "3. View tasks\n",
      "4. Exit\n"
     ]
    },
    {
     "name": "stdin",
     "output_type": "stream",
     "text": [
      "Enter your choice (1-4):  3\n"
     ]
    },
    {
     "name": "stdout",
     "output_type": "stream",
     "text": [
      "\n",
      "Your To-Do List:\n",
      "1. study\n",
      "2. sleep\n",
      "3. classes\n",
      "\n",
      "To-Do List Menu:\n",
      "1. Add task\n",
      "2. Remove task\n",
      "3. View tasks\n",
      "4. Exit\n"
     ]
    }
   ],
   "source": [
    "class TodoList:\n",
    "    def __init__(self):\n",
    "        self.tasks = []\n",
    "\n",
    "    def add_task(self, task):\n",
    "        self.tasks.append(task)\n",
    "        print(f\"Task '{task}' added to your to-do list.\")\n",
    "\n",
    "    def remove_task(self, task):\n",
    "        if task in self.tasks:\n",
    "            self.tasks.remove(task)\n",
    "            print(f\"Task '{task}' removed from your to-do list.\")\n",
    "        else:\n",
    "            print(f\"Task '{task}' not found.\")\n",
    "\n",
    "    def view_tasks(self):\n",
    "        if self.tasks:\n",
    "            print(\"\\nYour To-Do List:\")\n",
    "            for index, task in enumerate(self.tasks, start=1):\n",
    "                print(f\"{index}. {task}\")\n",
    "        else:\n",
    "            print(\"Your to-do list is empty!\")\n",
    "\n",
    "def show_menu():\n",
    "    print(\"\\nTo-Do List Menu:\")\n",
    "    print(\"1. Add task\")\n",
    "    print(\"2. Remove task\")\n",
    "    print(\"3. View tasks\")\n",
    "    print(\"4. Exit\")\n",
    "\n",
    "def main():\n",
    "    todo = TodoList()\n",
    "\n",
    "    while True:\n",
    "        show_menu()\n",
    "        choice = input(\"Enter your choice (1-4): \")\n",
    "\n",
    "        if choice == '1':\n",
    "            task = input(\"Enter the task to add: \")\n",
    "            todo.add_task(task)\n",
    "        elif choice == '2':\n",
    "            task = input(\"Enter the task to remove: \")\n",
    "            todo.remove_task(task)\n",
    "        elif choice == '3':\n",
    "            todo.view_tasks()\n",
    "        elif choice == '4':\n",
    "            print(\"Exiting the To-Do list. Goodbye!\")\n",
    "            break\n",
    "        else:\n",
    "            print(\"Invalid choice. Please try again.\")\n",
    "\n",
    "if __name__ == \"__main__\":\n",
    "    main()\n"
   ]
  },
  {
   "cell_type": "code",
   "execution_count": null,
   "id": "ae056be9-13ed-48c0-aaa9-5b2acb5335d2",
   "metadata": {},
   "outputs": [],
   "source": []
  }
 ],
 "metadata": {
  "kernelspec": {
   "display_name": "Python 3 (ipykernel)",
   "language": "python",
   "name": "python3"
  },
  "language_info": {
   "codemirror_mode": {
    "name": "ipython",
    "version": 3
   },
   "file_extension": ".py",
   "mimetype": "text/x-python",
   "name": "python",
   "nbconvert_exporter": "python",
   "pygments_lexer": "ipython3",
   "version": "3.13.2"
  }
 },
 "nbformat": 4,
 "nbformat_minor": 5
}
